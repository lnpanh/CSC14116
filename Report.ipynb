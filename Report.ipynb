{
  "cells": [
    {
      "cell_type": "markdown",
      "metadata": {
        "id": "view-in-github",
        "colab_type": "text"
      },
      "source": [
        "<a href=\"https://colab.research.google.com/github/lnpanh/CSC14116/blob/main/Report.ipynb\" target=\"_parent\"><img src=\"https://colab.research.google.com/assets/colab-badge.svg\" alt=\"Open In Colab\"/></a>"
      ]
    },
    {
      "cell_type": "markdown",
      "metadata": {
        "id": "7_AlsPLjDmXy"
      },
      "source": [
        "# FINAL REPORT\n",
        "\n",
        "Course: Applied Parallel Programming\n",
        "\n",
        "18127039 -  Lâm Ngọc Phương Anh\n",
        "\n",
        "18127046 - Lư Ngọc Liên \n",
        "\n",
        "1653098 - Võ Minh Tú\n"
      ]
    },
    {
      "cell_type": "markdown",
      "metadata": {
        "id": "HHNv1OO6DmX3"
      },
      "source": [
        "# Enhancing Document Image"
      ]
    },
    {
      "cell_type": "markdown",
      "metadata": {
        "id": "CHCEMw--DmX4"
      },
      "source": [
        "\n",
        "## Problem Statement\n",
        "\n",
        "### Overview\n",
        "Enhancing document image is a fundamental stage in image processing which support scan images, convert images to text, and re-align shooting angles,...\n",
        "\n",
        "The problem is divided into two main steps:\n",
        "- Step 1: Align the photo, remove the excess background around\n",
        "- Step 2: Adjust the brightness and contrast of the photo\n",
        "\n",
        "Common applications where this problem applies are:\n",
        "- Scanning function of iPhone Notes \n",
        "- CamScanner app\n",
        "\n",
        "\n",
        " \n",
        "### Input and Output Data description\n",
        "* Input: a document image is not facing toward the screen.\n",
        "* Output: the document image (cut the background) faces toward the screen.\n",
        "* Example of input and output:\n",
        "\n",
        "![](https://i.imgur.com/8cfHARR.png)\n",
        "\n",
        "*cre*: [dropbox.Tech, Jongmin Baek, Aug 16, 2016, Fast document rectification and enhancement](https://dropbox.tech/machine-learning/fast-document-rectification-and-enhancement)\n",
        "\n",
        "* **Steps of processing the image from Input to Output**\n",
        "    * Detect edges\n",
        "    * Get the document's contour based on the detected edges above.\n",
        "    * Apply transform to get the top-down view of the image.\n",
        "    * Adjust the contrast and light to make the document easier to read.\n",
        "\n",
        "### Should we need to apply parallel to speed up the running time of this problem? Is it available to be paralleled?\n",
        "\n",
        "\n",
        "First of all, we discuss the benefit of parallel can help: \n",
        "* Parallel computing saves time, allowing the execution of applications in a shorter wall-clock time.\n",
        "* Solve Larger Problems in a short point of time.\n",
        "* Compared to serial computing, parallel computing is much better suited for modeling, simulating and understanding complex, real-world phenomena.\n",
        "* Throwing more resources at a task will shorten its time to completion, with potential cost savings. Parallel computers can be built from cheap, commodity components.\n",
        "* Many problems are so large and/or complex that it is impractical or impossible to solve them on a single computer, especially given limited computer memory.\n",
        "* You can do many things simultaneously by using multiple computing resources.\n",
        "* Can using computer resources on the Wide Area Network(WAN) or even on the internet.\n",
        "* It can help keep you organized. If you have Internet, then communication and social networking can be made easier.\n",
        "* It has massive data storage and quick data computations.\n",
        "\n",
        "\n",
        "Secondly, we discuss why Enhance Document Image need parallel programming to speed up and applications of its and it is available to be paralleled.\n",
        "* As we declare above, we have 4 steps to do so as to enhance and scanner a image into a online doc from a picture. And in every steps, we have so many tasks to do complicated. This leads to takes us quite big amount of time to do this serially. => Time\n",
        "* The second benefit when using parallel that we can do many things simultaneously by using multiple computing resources. Example: In real world, we not only do a function for an object at the particular. Imagine that we have 4 pictures or even more to scan at the same time, we cannot wasting time by letting system assign this for single core while we can do this for all gpu and cpu cores that we have. So that’s why we can use multiple computing resources effectively and efficiently.\n",
        "\n",
        "### Weekly plan\n",
        "\n",
        "<table class=\"tg\">\n",
        "<thead>\n",
        "  <tr>\n",
        "    <th class=\"tg-0pky\"></th>\n",
        "    <th class=\"tg-rk9a\">Main task</th>\n",
        "    <th class=\"tg-rk9a\">Sub-task</th>\n",
        "    <th class=\"tg-rk9a\">Assignee</th>\n",
        "  </tr>\n",
        "</thead>\n",
        "<tbody>\n",
        "  <tr>\n",
        "    <td class=\"tg-9hil\" rowspan=\"5\">W05</td>\n",
        "    <td class=\"tg-9wq8\" rowspan=\"3\">Write report about problem statement</td>\n",
        "    <td class=\"tg-0pky\">Describe problem</td>\n",
        "    <td class=\"tg-kgv7\"><span style=\"color:#000\">Lư Ngọc Liên</span></td>\n",
        "  </tr>\n",
        "  <tr>\n",
        "    <td class=\"tg-0pky\">Describe data</td>\n",
        "    <td class=\"tg-kgv7\"><span style=\"color:#000\">Lâm Ngọc Phương Anh</span></td>\n",
        "  </tr>\n",
        "  <tr>\n",
        "    <td class=\"tg-0pky\">The need of parallel</td>\n",
        "    <td class=\"tg-kgv7\"><span style=\"color:#000\">Võ Minh Tú</span></td>\n",
        "  </tr>\n",
        "  <tr>\n",
        "    <td class=\"tg-9wq8\" rowspan=\"2\">Refer the process of different solutions</td>\n",
        "    <td class=\"tg-0pky\">Read idea</td>\n",
        "    <td class=\"tg-0pky\">All Team</td>\n",
        "  </tr>\n",
        "  <tr>\n",
        "    <td class=\"tg-0pky\">Note the strong point of each idea</td>\n",
        "    <td class=\"tg-0pky\">All Team</td>\n",
        "  </tr>\n",
        "</tbody>\n",
        "</table>\n"
      ]
    },
    {
      "cell_type": "markdown",
      "metadata": {
        "id": "TJYZVgnGDmX8"
      },
      "source": [
        ""
      ]
    }
  ],
  "metadata": {
    "language_info": {
      "name": "python"
    },
    "orig_nbformat": 4,
    "colab": {
      "name": "Report.ipynb",
      "provenance": [],
      "toc_visible": true,
      "include_colab_link": true
    }
  },
  "nbformat": 4,
  "nbformat_minor": 0
}