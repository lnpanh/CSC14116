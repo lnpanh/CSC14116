{
  "cells": [
    {
      "cell_type": "markdown",
      "metadata": {
        "colab_type": "text",
        "id": "view-in-github"
      },
      "source": [
        "<a href=\"https://colab.research.google.com/github/lnpanh/CSC14116/blob/main/Report.ipynb\" target=\"_parent\"><img src=\"https://colab.research.google.com/assets/colab-badge.svg\" alt=\"Open In Colab\"/></a>"
      ]
    },
    {
      "cell_type": "markdown",
      "metadata": {
        "id": "7_AlsPLjDmXy"
      },
      "source": [
        "# FINAL REPORT\n",
        "\n",
        "Course: Applied Parallel Programming\n",
        "\n",
        "18127039 -  Lâm Ngọc Phương Anh\n",
        "\n",
        "18127046 - Lư Ngọc Liên \n",
        "\n",
        "1653098 - Võ Minh Tú\n"
      ]
    },
    {
      "cell_type": "markdown",
      "metadata": {
        "id": "HHNv1OO6DmX3"
      },
      "source": [
        "# Enhancing Document Image"
      ]
    },
    {
      "cell_type": "markdown",
      "metadata": {
        "id": "CHCEMw--DmX4"
      },
      "source": [
        "## Phát biểu bài toán\n",
        "### Tổng quan\n",
        "Enhacing document image là một bước trong công việc xử lý ảnh, là bước nền cơ bản hỗ trợ cho các chức năng nâng cao khác như scan hình ảnh, chuyển đổi ảnh thành text, điều chỉnh lại góc chụp của bức ảnh.\n",
        "\n",
        "Một vài ứng dụng sử dụng bài toán này là:\n",
        "- Chức năng scan ảnh trong ứng dụng Note của Iphone\n",
        "- CamScanner\n",
        "\n",
        "### Mô tả đầu ra và đầu vào của bài toán\n",
        "* Đầu vào: một bức ảnh có góc chụp không trực diện với màn hình\n",
        "* Đầu ra: Bức ảnh có góc chụp trực diện với màn hình (bỏ đi các background dư thừa)\n",
        "\n",
        "![](https://i.imgur.com/8cfHARR.png)\n",
        "\n",
        "*cre*: [dropbox.Tech, Jongmin Baek, Aug 16, 2016, Fast document rectification and enhancement](https://dropbox.tech/machine-learning/fast-document-rectification-and-enhancement)\n",
        "\n",
        "\n",
        "\n",
        "* **Các bước thực hiện**\n",
        "    * Phát hiện biên cạnh\n",
        "    * Lấy contour của bức ảnh dựa trên các cạnh đã được detect\n",
        "    * Ứng dụng các bước chuyển đổi để lấy được top-down của bức ảnh\n",
        "    * Điều chỉnh độ tương phản, độ sáng của bức ảnh\n",
        "\n",
        "\n",
        "### Tại sao chúng ta phải cần song song? Việc song song có khả thi hay không?\n",
        "\n",
        "\n",
        "\n",
        "### Kế hoạch\n",
        "\n",
        "<table class=\"tg\">\n",
        "<thead>\n",
        "  <tr>\n",
        "    <th class=\"tg-0pky\"></th>\n",
        "    <th class=\"tg-rk9a\">Nhiệm vụ chính</th>\n",
        "    <th class=\"tg-rk9a\">Nhiệm vụ phụ</th>\n",
        "    <th class=\"tg-rk9a\">Người thực hiện</th>\n",
        "  </tr>\n",
        "</thead>\n",
        "<tbody>\n",
        "  <tr>\n",
        "    <td class=\"tg-9hil\" rowspan=\"5\">W06</td>\n",
        "    <td class=\"tg-9wq8\" rowspan=\"3\">Tổng quan bài toán</td>\n",
        "    <td class=\"tg-0pky\">Giới thiệu vấn đề</td>\n",
        "    <td class=\"tg-kgv7\"><span style=\"color:#000\">Lư Ngọc Liên</span></td>\n",
        "  </tr>\n",
        "  <tr>\n",
        "    <td class=\"tg-0pky\">Mô tả dữ liệu</td>\n",
        "    <td class=\"tg-kgv7\"><span style=\"color:#000\">Lâm Ngọc Phương Anh</span></td>\n",
        "  </tr>\n",
        "  <tr>\n",
        "    <td class=\"tg-0pky\">Sự cần thiết của song song</td>\n",
        "    <td class=\"tg-kgv7\"><span style=\"color:#000\">Võ Minh Tú</span></td>\n",
        "  </tr>\n",
        "  <tr>\n",
        "    <td class=\"tg-9wq8\" rowspan=\"2\">Tham khảo các giải pháp khác nhau</td>\n",
        "    <td class=\"tg-0pky\">Đọc ý tưởng</td>\n",
        "    <td class=\"tg-0pky\">Cả nhóm</td>\n",
        "  </tr>\n",
        "  <tr>\n",
        "    <td class=\"tg-0pky\">Ghi chú lại các điểm quan trọng</td>\n",
        "    <td class=\"tg-0pky\">Cả nhóm</td>\n",
        "  </tr>\n",
        "  <tr>\n",
        "    <td class=\"tg-c3ow\" rowspan=\"6\">W07</td>\n",
        "    <td class=\"tg-c3ow\" rowspan=\"3\">Xây dựng từng bước</td>\n",
        "    <td class=\"tg-0pky\">Định nghĩa và cài đặt bước chuyển đổi ảnh trực diện với màn hình</td>\n",
        "    <td class=\"tg-kgv7\"><span style=\"color:#000\">Lâm Ngọc Phương Anh</span></td>\n",
        "  </tr>\n",
        "  <tr>\n",
        "    <td class=\"tg-0pky\">Định nghĩa và cài đặt bước phát hiện biên cạnh của tấm ảnh</td>\n",
        "    <td class=\"tg-kgv7\"><span style=\"color:#000\">Lư Ngọc Liên</span></td>\n",
        "  </tr>\n",
        "  <tr>\n",
        "    <td class=\"tg-0pky\">Định nghĩa và cài đặt các bước điều chỉnh độ phân giải và độ sáng của bức ảnh</td>\n",
        "    <td class=\"tg-kgv7\"><span style=\"color:#000\">Võ Minh Tú</span></td>\n",
        "  </tr>\n",
        "  <tr>\n",
        "    <td class=\"tg-c3ow\" rowspan=\"3\">Cài đặt tuần tự</td>\n",
        "    <td class=\"tg-0pky\">Cài đặt đầy đủ các bước trong bài toán</td>\n",
        "    <td class=\"tg-kgv7\"><span style=\"color:#000\">Cả nhóm</span></td>\n",
        "  </tr>\n",
        " \n",
        " \n",
        "</tbody>\n",
        "</table>\n"
      ]
    },
    {
      "cell_type": "markdown",
      "metadata": {
        "id": "TJYZVgnGDmX8"
      },
      "source": []
    }
  ],
  "metadata": {
    "colab": {
      "include_colab_link": true,
      "name": "Report.ipynb",
      "provenance": [],
      "toc_visible": true
    },
    "language_info": {
      "name": "python"
    },
    "orig_nbformat": 4
  },
  "nbformat": 4,
  "nbformat_minor": 0
}
